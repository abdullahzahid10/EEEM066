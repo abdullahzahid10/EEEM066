{
  "nbformat": 4,
  "nbformat_minor": 0,
  "metadata": {
    "colab": {
      "provenance": [],
      "authorship_tag": "ABX9TyOMKmsdWaFm3GaWN0hmWV0a"
    },
    "kernelspec": {
      "name": "python3",
      "display_name": "Python 3"
    },
    "language_info": {
      "name": "python"
    }
  },
  "cells": [
    {
      "cell_type": "code",
      "execution_count": null,
      "metadata": {
        "colab": {
          "base_uri": "https://localhost:8080/"
        },
        "id": "-SnCAKLLRmWt",
        "outputId": "ebb2e56b-7493-480b-c95b-9ae7b805a114"
      },
      "outputs": [
        {
          "output_type": "stream",
          "name": "stdout",
          "text": [
            "[1 2 3 4 5]\n",
            "[[1 2 3]\n",
            " [4 5 6]\n",
            " [7 8 9]]\n"
          ]
        }
      ],
      "source": [
        "import numpy as np\n",
        "\n",
        "arr1 = np.array([1,2,3,4,5])\n",
        "print(arr1)\n",
        "\n",
        "# create a 2-dimensional NumPy array\n",
        "arr2 = np.array([[1, 2, 3], [4, 5, 6], [7, 8, 9]])\n",
        "print(arr2)"
      ]
    },
    {
      "cell_type": "code",
      "source": [
        "print(arr1[0])      # prints 1\n",
        "print(arr2[1, 2])   # prints 6\n",
        "print(arr2[:, 1])"
      ],
      "metadata": {
        "colab": {
          "base_uri": "https://localhost:8080/"
        },
        "id": "v0nbjJq6SoWe",
        "outputId": "678e32e1-7e1a-4f02-e3ee-f8589b486413"
      },
      "execution_count": null,
      "outputs": [
        {
          "output_type": "stream",
          "name": "stdout",
          "text": [
            "1\n",
            "6\n",
            "[2 5 8]\n"
          ]
        }
      ]
    },
    {
      "cell_type": "code",
      "source": [
        "arr_int8 = np.array([1, 2, 3], dtype=np.int8)\n",
        "arr_uint16 = np.array([10, 20, 30], dtype=np.uint16)\n",
        "\n",
        "print(arr_int8.dtype)   # output: int8\n",
        "print(arr_uint16.dtype) # output: uint16"
      ],
      "metadata": {
        "colab": {
          "base_uri": "https://localhost:8080/"
        },
        "id": "ayweV3M2S0MG",
        "outputId": "31df29ff-8317-413a-b226-d965b4a48db1"
      },
      "execution_count": null,
      "outputs": [
        {
          "output_type": "stream",
          "name": "stdout",
          "text": [
            "int8\n",
            "uint16\n"
          ]
        }
      ]
    },
    {
      "cell_type": "code",
      "source": [
        "arr_float32 = np.array([1.0, 2.5, 3.7], dtype=np.float32)\n",
        "arr_complex128 = np.array([1 + 2j, 3 + 4j], dtype=np.complex128)\n",
        "\n",
        "print(arr_float32.dtype)      # output: float32\n",
        "print(arr_complex128.dtype)   # output: complex128"
      ],
      "metadata": {
        "colab": {
          "base_uri": "https://localhost:8080/"
        },
        "id": "OVfhZE4kTBc3",
        "outputId": "cc3495e2-812e-4855-d5f3-a6a64760600b"
      },
      "execution_count": null,
      "outputs": [
        {
          "output_type": "stream",
          "name": "stdout",
          "text": [
            "float32\n",
            "complex128\n"
          ]
        }
      ]
    },
    {
      "cell_type": "code",
      "source": [
        "arr_bool = np.array([True, False, True], dtype=np.bool)\n",
        "\n",
        "print(arr_bool.dtype)    # output: bool\n"
      ],
      "metadata": {
        "colab": {
          "base_uri": "https://localhost:8080/"
        },
        "id": "rGCi1zxMTEt2",
        "outputId": "c47a76ee-a203-4701-e443-9d5ac11d19df"
      },
      "execution_count": null,
      "outputs": [
        {
          "output_type": "stream",
          "name": "stdout",
          "text": [
            "bool\n"
          ]
        },
        {
          "output_type": "stream",
          "name": "stderr",
          "text": [
            "<ipython-input-6-482b03fa2b97>:1: DeprecationWarning: `np.bool` is a deprecated alias for the builtin `bool`. To silence this warning, use `bool` by itself. Doing this will not modify any behavior and is safe. If you specifically wanted the numpy scalar type, use `np.bool_` here.\n",
            "Deprecated in NumPy 1.20; for more details and guidance: https://numpy.org/devdocs/release/1.20.0-notes.html#deprecations\n",
            "  arr_bool = np.array([True, False, True], dtype=np.bool)\n"
          ]
        }
      ]
    },
    {
      "cell_type": "code",
      "source": [
        "\n",
        "arr_string = np.array(['hello', 'world'], dtype=np.string_)\n",
        "arr_unicode = np.array(['こんにちは', '안녕하세요'], dtype=np.unicode_)\n",
        "\n",
        "print(arr_string.dtype)   # output: |S5 (5 bytes per string)\n",
        "print(arr_unicode.dtype)  # output:"
      ],
      "metadata": {
        "colab": {
          "base_uri": "https://localhost:8080/"
        },
        "id": "DSI2f8VxTGyA",
        "outputId": "02bd3e0e-0ac1-46d9-f4b1-59707ceed8bd"
      },
      "execution_count": null,
      "outputs": [
        {
          "output_type": "stream",
          "name": "stdout",
          "text": [
            "|S5\n",
            "<U5\n"
          ]
        }
      ]
    },
    {
      "cell_type": "code",
      "source": [
        "#1. Broadcasting a scalar value to an array\n",
        "\n",
        "arr = np.array([1, 2, 3])\n",
        "scalar = 2\n",
        "\n",
        "# multiply every element of arr by scalar\n",
        "result = arr * scalar\n",
        "\n",
        "print(result) # output: [2, 4, 6]\n",
        "\n",
        "#scalar value 2 is broadcasted to the same shape as the arr array, which is [1, 2, 3]\n"
      ],
      "metadata": {
        "colab": {
          "base_uri": "https://localhost:8080/"
        },
        "id": "DBrUIQAJTIB2",
        "outputId": "8bc1f4f9-0e5a-475d-b20a-2b550718ee4d"
      },
      "execution_count": null,
      "outputs": [
        {
          "output_type": "stream",
          "name": "stdout",
          "text": [
            "[2 4 6]\n"
          ]
        }
      ]
    },
    {
      "cell_type": "code",
      "source": [
        "#2. Broadcasting a one-dimensional array to a two-dimensional array\n",
        "\n",
        "arr1 = np.array([1, 2, 3])\n",
        "arr2 = np.array([[1, 2, 3], [4, 5, 6]])\n",
        "\n",
        "# add arr1 to every row of arr2\n",
        "result = arr1 + arr2\n",
        "\n",
        "print(result)\n",
        "# output: [[2, 4, 6], [5, 7, 9]]\n",
        "# arr1 is broadcasted to the same shape as each row of the arr2 array, which is [1, 2, 3]."
      ],
      "metadata": {
        "colab": {
          "base_uri": "https://localhost:8080/"
        },
        "id": "lSqeZxBETOBv",
        "outputId": "81c144f3-9a85-4e08-97ab-a00da10123b1"
      },
      "execution_count": null,
      "outputs": [
        {
          "output_type": "stream",
          "name": "stdout",
          "text": [
            "[[2 4 6]\n",
            " [5 7 9]]\n"
          ]
        }
      ]
    },
    {
      "cell_type": "code",
      "source": [
        "\n",
        "arr1 = np.array([[1, 2, 3], [4, 5, 6]])\n",
        "arr2 = np.array([10, 20, 30])\n",
        "\n",
        "# add arr2 to every column of arr1\n",
        "result = arr1 + arr2\n",
        "\n",
        "print(result)\n",
        "# output: [[11, 22, 33], [14, 25, 36]]\n",
        "#  arr2 is broadcasted to the same shape as each column of the arr1 array, which is [[10, 20, 30"
      ],
      "metadata": {
        "colab": {
          "base_uri": "https://localhost:8080/"
        },
        "id": "li1_-Zf7TTcm",
        "outputId": "75f7280e-fa6a-42db-a457-7d4f403164d9"
      },
      "execution_count": null,
      "outputs": [
        {
          "output_type": "stream",
          "name": "stdout",
          "text": [
            "[[11 22 33]\n",
            " [14 25 36]]\n"
          ]
        }
      ]
    },
    {
      "cell_type": "code",
      "source": [
        "#reshape a 1D array to a 2D array using the following code:\n",
        "\n",
        "# create a 1D array with 9 elements\n",
        "a = np.array([1, 2, 3, 4, 5, 6, 7, 8, 9])\n",
        "\n",
        "# reshape the array to a 3x3 matrix\n",
        "b = a.reshape((3, 3))\n",
        "\n",
        "print(b)\n"
      ],
      "metadata": {
        "colab": {
          "base_uri": "https://localhost:8080/"
        },
        "id": "fX3HRjjjTZ1v",
        "outputId": "c4d0a80d-d938-4ed8-95ee-6792608f6dd8"
      },
      "execution_count": null,
      "outputs": [
        {
          "output_type": "stream",
          "name": "stdout",
          "text": [
            "[[1 2 3]\n",
            " [4 5 6]\n",
            " [7 8 9]]\n"
          ]
        }
      ]
    },
    {
      "cell_type": "code",
      "source": [
        "\n",
        "# create a 2D array\n",
        "a = np.array([[1, 2], [3, 4]])\n",
        "\n",
        "# transpose the array\n",
        "b = a.transpose()\n",
        "\n",
        "print(b)"
      ],
      "metadata": {
        "colab": {
          "base_uri": "https://localhost:8080/"
        },
        "id": "XOh2gyJGThMP",
        "outputId": "2c4e6627-513b-48d9-bcc1-59c5b1996e5d"
      },
      "execution_count": null,
      "outputs": [
        {
          "output_type": "stream",
          "name": "stdout",
          "text": [
            "[[1 3]\n",
            " [2 4]]\n"
          ]
        }
      ]
    },
    {
      "cell_type": "code",
      "source": [
        "# create a 2D array\n",
        "a = np.array([[1, 2], [3, 4]])\n",
        "\n",
        "# flatten the array\n",
        "b = a.flatten()\n",
        "\n",
        "print(b)\n"
      ],
      "metadata": {
        "colab": {
          "base_uri": "https://localhost:8080/"
        },
        "id": "ZldFDKPaTlA1",
        "outputId": "3d095bc0-f9d2-4103-84c1-738b8829c5f8"
      },
      "execution_count": null,
      "outputs": [
        {
          "output_type": "stream",
          "name": "stdout",
          "text": [
            "[1 2 3 4]\n"
          ]
        }
      ]
    },
    {
      "cell_type": "code",
      "source": [
        "\n",
        "\n",
        "# create a 1D array with 3 elements\n",
        "a = np.array([1, 2, 3])\n",
        "\n",
        "# add a new dimension to create a 2D array\n",
        "b = a[np.newaxis, :]\n",
        "\n",
        "print(b)\n"
      ],
      "metadata": {
        "colab": {
          "base_uri": "https://localhost:8080/"
        },
        "id": "t-hZmgzyTqZn",
        "outputId": "7bc512cf-23bc-4b02-d391-38141daf7011"
      },
      "execution_count": null,
      "outputs": [
        {
          "output_type": "stream",
          "name": "stdout",
          "text": [
            "[[1 2 3]]\n"
          ]
        }
      ]
    }
  ]
}