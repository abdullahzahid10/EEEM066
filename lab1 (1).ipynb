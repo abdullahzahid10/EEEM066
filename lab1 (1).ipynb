{
  "cells": [
    {
      "cell_type": "markdown",
      "metadata": {
        "colab_type": "text",
        "id": "view-in-github"
      },
      "source": [
        "<a href=\"https://colab.research.google.com/github/abdullahzahid10/Computer-Networking/blob/main/lab1.ipynb\" target=\"_parent\"><img src=\"https://colab.research.google.com/assets/colab-badge.svg\" alt=\"Open In Colab\"/></a>"
      ]
    },
    {
      "cell_type": "code",
      "execution_count": 2,
      "metadata": {
        "colab": {
          "base_uri": "https://localhost:8080/"
        },
        "id": "szWR44xdOPj5",
        "outputId": "ec7b6172-074a-4b5c-8fdf-aa8a9a759952"
      },
      "outputs": [
        {
          "name": "stdout",
          "output_type": "stream",
          "text": [
            "Hello World!\n",
            "Abdullah Zahid Surrey\n"
          ]
        }
      ],
      "source": [
        "#Basic print command\n",
        "print(\"Hello World!\")\n",
        "\n",
        "#String formatting, string.format(x1, x2...)\n",
        "print('{} {} {} {}'.format(\"Abdullah\", \"Zahid\", \"Surrey\", \"University\"))"
      ]
    },
    {
      "cell_type": "code",
      "execution_count": 3,
      "metadata": {
        "colab": {
          "base_uri": "https://localhost:8080/"
        },
        "id": "dcINSXyNRJt1",
        "outputId": "ab751e09-ef4f-434b-cc33-ea0f641d3eb8"
      },
      "outputs": [
        {
          "name": "stdout",
          "output_type": "stream",
          "text": [
            "100 is stored as type: <class 'int'>\n",
            "100.0 is stored as type: <class 'float'>\n",
            "University of Surrey is stored as type: <class 'str'>\n",
            "University of Surrey is stored as type: <class 'str'>\n",
            "True is stored as type: <class 'bool'>\n"
          ]
        }
      ],
      "source": [
        "x1 = 100\n",
        "x2 = 100.0\n",
        "x3 = 'University of Surrey'\n",
        "x4 = \"University of Surrey\" #in python both single quotes and double quotes are used to denote strings. ('' == \"\")\n",
        "x5 = True\n",
        "\n",
        "print(str(x1) + ' is stored as type: ' + str(type(x1)))\n",
        "print(str(x2) + ' is stored as type: ' + str(type(x2)))\n",
        "print(str(x3) + ' is stored as type: ' + str(type(x3)))\n",
        "print(str(x4) + ' is stored as type: ' + str(type(x4)))\n",
        "print(str(x5) + ' is stored as type: ' + str(type(x5)))"
      ]
    },
    {
      "cell_type": "code",
      "execution_count": 4,
      "metadata": {
        "colab": {
          "base_uri": "https://localhost:8080/"
        },
        "id": "_kqbMdF_RPci",
        "outputId": "48bbf1c1-7d35-43c5-9be1-cb637382e8ff"
      },
      "outputs": [
        {
          "name": "stdout",
          "output_type": "stream",
          "text": [
            "<class 'int'>\n",
            "<class 'int'>\n",
            "<class 'int'>\n"
          ]
        }
      ],
      "source": [
        "x1 = 100\n",
        "x2 = int(100.0)\n",
        "x3 = int(\"2\")\n",
        "\n",
        "print(type(x1))\n",
        "print(type(x2))\n",
        "print(type(x3))"
      ]
    },
    {
      "cell_type": "code",
      "execution_count": 5,
      "metadata": {
        "colab": {
          "base_uri": "https://localhost:8080/"
        },
        "id": "kkLKgBWwRRoo",
        "outputId": "eb7b460c-3e95-48a7-eb44-9c40deea7ee3"
      },
      "outputs": [
        {
          "name": "stdout",
          "output_type": "stream",
          "text": [
            "<class 'float'>\n",
            "<class 'float'>\n",
            "<class 'float'>\n"
          ]
        }
      ],
      "source": [
        "x1 = 100.0\n",
        "x2 = float(100)\n",
        "x3 = float(\"100\")\n",
        "\n",
        "print(type(x1))\n",
        "print(type(x2))\n",
        "print(type(x3))"
      ]
    },
    {
      "cell_type": "code",
      "execution_count": 6,
      "metadata": {
        "colab": {
          "base_uri": "https://localhost:8080/"
        },
        "id": "3XkEUBtlRTdh",
        "outputId": "298423a6-46c8-41cc-e91f-c097d2c93e2d"
      },
      "outputs": [
        {
          "name": "stdout",
          "output_type": "stream",
          "text": [
            "<class 'str'>\n",
            "<class 'str'>\n",
            "<class 'str'>\n"
          ]
        }
      ],
      "source": [
        "x1 = \"100\"\n",
        "x2 = str(100)\n",
        "x3 = str(100.0)\n",
        "\n",
        "print(type(x1))\n",
        "print(type(x2))\n",
        "print(type(x3))"
      ]
    },
    {
      "cell_type": "code",
      "execution_count": 7,
      "metadata": {
        "colab": {
          "base_uri": "https://localhost:8080/"
        },
        "id": "Ks4vzIVHSUpV",
        "outputId": "d4505a4e-c040-49a2-9a64-148fd4730e3e"
      },
      "outputs": [
        {
          "name": "stdout",
          "output_type": "stream",
          "text": [
            "Empty list, x:  []\n",
            "After appending value in x:  [1]\n",
            "x1:  [1, 1, 1]\n",
            "x2:  [2, 2, 2]\n",
            "x1+x2:  [1, 1, 1, 2, 2, 2]\n",
            "x1 length:  3\n",
            "x1+x2 length:  6\n"
          ]
        }
      ],
      "source": [
        "\n",
        "#Lists : Ordered, mutable/dynamic, heterogeneous collection.\n",
        "'''\n",
        "Ordered: Sequence of insertion/deletion is maintained through integer indices.\n",
        "Mutable: Modifiable, addition, insertion within the same list.\n",
        "Heterogeneous: A single list can contain object of different datatypes, ex: int, str, object.\n",
        "'''\n",
        "\n",
        "#Creating new list\n",
        "x = [] #empty list\n",
        "x = list() #empty list using the list constructor\n",
        "print('Empty list, x: ', x)\n",
        "\n",
        "#Adding new values to the list\n",
        "x.append(1)\n",
        "print('After appending value in x: ', x)\n",
        "\n",
        "#Concatenating two lists\n",
        "x1 = [1, 1, 1]\n",
        "x2 = [2, 2, 2]\n",
        "x3 = x1+x2\n",
        "\n",
        "print(\"x1: \", x1)\n",
        "print(\"x2: \", x2)\n",
        "print(\"x1+x2: \", x3)\n",
        "\n",
        "# you can check the length/number of elements of a list with the len() function\n",
        "print(\"x1 length: \", len(x1))\n",
        "print(\"x1+x2 length: \", len(x3))"
      ]
    },
    {
      "cell_type": "code",
      "execution_count": 8,
      "metadata": {
        "colab": {
          "base_uri": "https://localhost:8080/"
        },
        "id": "Lg5gVvifS-uk",
        "outputId": "6fb96b20-401b-451c-8eef-496e134c10b7"
      },
      "outputs": [
        {
          "name": "stdout",
          "output_type": "stream",
          "text": [
            "Empty tuple, x:  ()\n",
            "x1:  (1, 1, 1)\n",
            "x2:  (2, 2, 2)\n",
            "x1+x2:  (1, 1, 1, 2, 2, 2)\n",
            "\n",
            " In case of huge number of elements ...\n",
            "size of list:  800040\n",
            "size of tuple:  800024\n"
          ]
        }
      ],
      "source": [
        "#Tuples : Same as lists except immutable/static!\n",
        "'''\n",
        "'''\n",
        "\n",
        "#Creating new tuple\n",
        "x = () #empty tuple\n",
        "x = tuple() #empty tuple using the tuple constructor\n",
        "print('Empty tuple, x: ', x)\n",
        "\n",
        "#Adding new values to a tuple\n",
        "# x.append(1) --> NOT ALLOWED, IMMUTABLE!!\n",
        "\n",
        "#Concatenating two tuples\n",
        "x1 = (1, 1, 1)\n",
        "x2 = (2, 2, 2)\n",
        "x3 = x1+x2\n",
        "\n",
        "print(\"x1: \", x1)\n",
        "print(\"x2: \", x2)\n",
        "print(\"x1+x2: \", x3)\n",
        "\n",
        "##Why use a tuple though??\n",
        "# Apart from being immutable, tuples are more memory efficient compared to lists (of particular interest when no. of elements > 10^5).\n",
        "x_list = list(range(100000))\n",
        "x_tuple = tuple(range(100000))\n",
        "\n",
        "print('\\n In case of huge number of elements ...')\n",
        "print('size of list: ', x_list.__sizeof__())\n",
        "print('size of tuple: ', x_tuple.__sizeof__())"
      ]
    },
    {
      "cell_type": "code",
      "execution_count": 11,
      "metadata": {
        "colab": {
          "base_uri": "https://localhost:8080/"
        },
        "id": "7tD05HwJUWFQ",
        "outputId": "3cd34708-8a16-47c6-d914-7c6ac361bdd2"
      },
      "outputs": [
        {
          "name": "stdout",
          "output_type": "stream",
          "text": [
            "Empty set, x:  set()\n",
            "x:  {'b', 'a', 'c'}\n"
          ]
        }
      ],
      "source": [
        "#Sets : unordered, Mutable/dynamic but \"unique\" collection of objects.\n",
        "'''\n",
        "set - {value_1, value_2, ...}\n",
        "'''\n",
        "\n",
        "#Creating new set\n",
        "x = set() #empty set using the set constructor\n",
        "print('Empty set, x: ', x)\n",
        "\n",
        "# A sample dictionary with key-value pairs\n",
        "x = {'a', 'b', 'c'}\n",
        "print('x: ', x)"
      ]
    },
    {
      "cell_type": "code",
      "execution_count": 12,
      "metadata": {
        "colab": {
          "base_uri": "https://localhost:8080/"
        },
        "id": "cdK_xJUZU9nA",
        "outputId": "fc26a04e-b26c-407f-be32-cdd48e8f4064"
      },
      "outputs": [
        {
          "name": "stdout",
          "output_type": "stream",
          "text": [
            "\n",
            "Search key: as\n",
            " Executing true block ...\n",
            " as exists in the list.\n",
            "Conditional block execution complete.\n",
            "----------\n",
            "\n",
            "Search key: ad\n",
            " Executing false block ...\n",
            " ad does not exist in the list.\n",
            "Conditional block execution complete.\n",
            "----------\n"
          ]
        }
      ],
      "source": [
        "def conditional_sample(key):\n",
        "    print('\\nSearch key: '+key)\n",
        "    if key in ['as', 'sa', 'vd']: #condition:\n",
        "        print(' Executing true block ...')\n",
        "        print(' '+key+' exists in the list.')\n",
        "    else:\n",
        "        print(' Executing false block ...')\n",
        "        print(' '+key+' does not exist in the list.')\n",
        "    print('Conditional block execution complete.')\n",
        "    print('-'*10)\n",
        "\n",
        "s = 'as'\n",
        "conditional_sample(s)\n",
        "\n",
        "s = 'ad'\n",
        "conditional_sample(s)"
      ]
    }
  ],
  "metadata": {
    "colab": {
      "authorship_tag": "ABX9TyN2POyAv69joo4NFKCw1HCZ",
      "include_colab_link": true,
      "provenance": []
    },
    "kernelspec": {
      "display_name": "Python 3",
      "name": "python3"
    },
    "language_info": {
      "name": "python"
    }
  },
  "nbformat": 4,
  "nbformat_minor": 0
}
